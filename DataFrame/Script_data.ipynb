{
 "cells": [
  {
   "cell_type": "code",
   "execution_count": 3,
   "id": "7702cc31",
   "metadata": {},
   "outputs": [
    {
     "ename": "NameError",
     "evalue": "name '__file__' is not defined",
     "output_type": "error",
     "traceback": [
      "\u001b[0;31m---------------------------------------------------------------------------\u001b[0m",
      "\u001b[0;31mNameError\u001b[0m                                 Traceback (most recent call last)",
      "\u001b[0;32m<ipython-input-3-45c123d9b642>\u001b[0m in \u001b[0;36m<module>\u001b[0;34m\u001b[0m\n\u001b[1;32m      9\u001b[0m \u001b[0;32mimport\u001b[0m \u001b[0mshutil\u001b[0m\u001b[0;34m\u001b[0m\u001b[0;34m\u001b[0m\u001b[0m\n\u001b[1;32m     10\u001b[0m \u001b[0;34m\u001b[0m\u001b[0m\n\u001b[0;32m---> 11\u001b[0;31m \u001b[0mdir_path\u001b[0m \u001b[0;34m=\u001b[0m \u001b[0mos\u001b[0m\u001b[0;34m.\u001b[0m\u001b[0mpath\u001b[0m\u001b[0;34m.\u001b[0m\u001b[0mdirname\u001b[0m\u001b[0;34m(\u001b[0m\u001b[0mos\u001b[0m\u001b[0;34m.\u001b[0m\u001b[0mpath\u001b[0m\u001b[0;34m.\u001b[0m\u001b[0mrealpath\u001b[0m\u001b[0;34m(\u001b[0m\u001b[0m__file__\u001b[0m\u001b[0;34m)\u001b[0m\u001b[0;34m)\u001b[0m\u001b[0;34m\u001b[0m\u001b[0;34m\u001b[0m\u001b[0m\n\u001b[0m",
      "\u001b[0;31mNameError\u001b[0m: name '__file__' is not defined"
     ]
    }
   ],
   "source": [
    "import requests\n",
    "import pandas as pd\n",
    "import csv\n",
    "import numpy as np\n",
    "import geopandas as gpd\n",
    "import zipfile38 as zipfile\n",
    "import os\n",
    "import pickle\n",
    "import shutil\n",
    "\n",
    "dir_path = os.path.dirname(os.path.realpath(__file__))\n"
   ]
  },
  {
   "cell_type": "code",
   "execution_count": null,
   "id": "95eb66e3",
   "metadata": {},
   "outputs": [],
   "source": [
    "\n",
    "\n",
    "def belgique(f):\n",
    "    \n",
    "    bel= pd.read_csv(f, sep = ';')\n",
    "    df = bel[['Code INS','Entités administratives']]\n",
    "    df = df.set_index('Entités administratives',inplace=True)\n",
    "    \n",
    "    return df\n",
    "    "
   ]
  },
  {
   "cell_type": "code",
   "execution_count": null,
   "id": "bae92df8",
   "metadata": {},
   "outputs": [],
   "source": [
    "\n",
    "def ville(df)\n",
    "    for i in df.index:\n",
    "        list_ville.append(i)\n",
    "    print(list_ville)\n",
    "\n"
   ]
  },
  {
   "cell_type": "code",
   "execution_count": null,
   "id": "bc241139",
   "metadata": {},
   "outputs": [],
   "source": [
    "\n",
    "def ville_INS(a):\n",
    "    objet = df.loc[[a], ['Code INS']]\n",
    "    b = objet['Code INS'].values\n",
    "     \n",
    "    return b\n"
   ]
  },
  {
   "cell_type": "code",
   "execution_count": null,
   "id": "e8f54ab1",
   "metadata": {},
   "outputs": [],
   "source": [
    "\n",
    "def save(nis):\n",
    "    \n",
    "    with open(f\"{dir_path}/L72_{a}.zip', 'wb') as fp:\n",
    "        req = requests.get(f'https://eservices.minfin.fgov.be/myminfin-rest/cadastral-plan/cadastralPlan/2021/{nis}/72')\n",
    "        fp.write(req.content)\n",
    "        "
   ]
  },
  {
   "cell_type": "code",
   "execution_count": null,
   "id": "16b9c8d0",
   "metadata": {
    "scrolled": true
   },
   "outputs": [],
   "source": [
    "\n",
    "\n",
    "def dezip(file):\n",
    "    with zipfile.ZipFile(file, 'r') as zip: \n",
    "        zip.extract('Bpn_CaPa.dbf', f'{dir_path}/L72_{a}_extract')\n",
    "        zip.extract('Bpn_CaPa.prj', f'{dir_path}/L72_{a}_extract')\n",
    "        zip.extract('Bpn_CaPa.shp', f'{dir_path}/L72_{a}_extract')\n",
    "        zip.extract('Bpn_CaPa.sbn', f'{dir_path}/L72_{a}_extract')\n",
    "        zip.extract('Bpn_CaPa.sbx', f'{dir_path}/L72_{a}_extract')\n",
    "        zip.extract('Bpn_CaPa.shx', f'{dir_path}/L72_{a}_extract')\n",
    "        \n",
    "        try:\n",
    "            zip.extract('Bpn_CaBu.shp', f'{dir_path}/L72_{a}_extract')\n",
    "            zip.extract('Bpn_CaBu.shx', f'{dir_path}/L72_{a}_extract')\n",
    "            zip.extract('Bpn_CaBu.dbf', f'{dir_path}/L72_{a}_extract')\n",
    "            zip.extract('Bpn_CaBu.prj', f'{dir_path}/L72_{a}_extract')\n",
    "            zip.extract('Bpn_CaBu.sbn', f'{dir_path}/L72_{a}_extract')\n",
    "            zip.extract('Bpn_CaBu.sbx', f'{dir_path}/L72_{a}_extract')\n",
    "        except:\n",
    "            pass\n",
    "        \n",
    "        try:\n",
    "            zip.extract('Bpn_ReBu.shp', f'{dir_path}/L72_{a}_extract')\n",
    "            zip.extract('Bpn_ReBu.shx', f'{dir_path}/L72_{a}_extract')\n",
    "            zip.extract('Bpn_ReBu.dbf', f'{dir_path}/L72_{a}_extract')\n",
    "            zip.extract('Bpn_ReBu.prj', f'{dir_path}/L72_{a}_extract')   \n",
    "            zip.extract('Bpn_ReBu.sbn', f'{dir_path}/L72_{a}_extract')   \n",
    "            zip.extract('Bpn_ReBu.sbx', f'{dir_path}/L72_{a}_extract')\n",
    "        except KeyError:\n",
    "            pass\n",
    "               \n",
    "       \n",
    "        try:\n",
    "            zip.extract('Apn_CaDi.shp', f'{dir_path}/L72_{a}_extract')\n",
    "            zip.extract('Apn_CaDi.shx', f'{dir_path}/L72_{a}_extract')\n",
    "            zip.extract('Apn_CaDi.dbf', f'{dir_path}/L72_{a}_extract')\n",
    "            zip.extract('Apn_CaDi.prj', f'{dir_path}/L72_{a}_extract')\n",
    "            zip.extract('Apn_CaDi.sbn', f'{dir_path}/L72_{a}_extract')\n",
    "            zip.extract('Apn_CaDi.sbx', f'{dir_path}/L72_{a}_extract')\n",
    "        except:\n",
    "            pass\n"
   ]
  },
  {
   "cell_type": "code",
   "execution_count": null,
   "id": "f04d9387",
   "metadata": {
    "scrolled": true
   },
   "outputs": [],
   "source": [
    "\n",
    "def CaPa_New(shapefile):\n",
    "    \n",
    "    new_shape_capa = shapefile_CaPa[['CaPaKey','geometry']]\n",
    "    output = open(f'{dir_path}/L72_{a}_clear/Bpn_CaPa_clear.pickle','wb')\n",
    "    pickle.dump(new_shape_capa, output)\n",
    "    output.close()\n",
    "    \n",
    "    return new_shape_capa\n"
   ]
  },
  {
   "cell_type": "code",
   "execution_count": null,
   "id": "c924a95f",
   "metadata": {},
   "outputs": [],
   "source": [
    "def CaBu_New(shapefile_CaBu):\n",
    "\n",
    "    new_shape_cabu = shapefile_CaBu[shapefile_CaBu['Type'] =='CL']\n",
    "    new_shape_cabu = new_shape_cabu[['Shape_area','geometry']]\n",
    "    output = open(f'{dir_path}/L72_{a}_clear/Bpn_CaBu_clear.pickle','wb')\n",
    "    pickle.dump(new_shape_cabu, output)\n",
    "    output.close()\n",
    "    \n",
    "    return new_shape_cabu\n"
   ]
  },
  {
   "cell_type": "code",
   "execution_count": null,
   "id": "e05dc8c3",
   "metadata": {},
   "outputs": [],
   "source": [
    "def ReBu_New(shapefile_ReBu):\n",
    "    \n",
    "        new_shape_rebu = shapefile_ReBu[['TYPE', 'geometry']]\n",
    "        output = open(f'{dir_path}/L72_{a}_clear/Bpn_ReBu_clear.pickle','wb')\n",
    "        pickle.dump(new_shape_rebu, output)\n",
    "        output.close()\n",
    "        \n",
    "        return new_shape_rebu\n",
    "   \n"
   ]
  },
  {
   "cell_type": "code",
   "execution_count": null,
   "id": "fa708fba",
   "metadata": {
    "scrolled": true
   },
   "outputs": [],
   "source": [
    "def CaDi_New(shapefile_CaDi):\n",
    "    \n",
    "        new_shape_cadi = shapefile_CaDi[['CaDiKey','NameDUT','geometry']]\n",
    "        output = open(f'{dir_path}/L72_{a}_clear/Apn_CaDi_clear.pickle','wb')\n",
    "        pickle.dump(new_shape_cadi, output)\n",
    "        output.close()\n",
    "        \n",
    "        return new_shape_cadi\n",
    "    \n",
    "    "
   ]
  },
  {
   "cell_type": "code",
   "execution_count": null,
   "id": "79f3a9e1",
   "metadata": {},
   "outputs": [],
   "source": [
    "a = input('Entrez le nom de la ville: ')\n",
    "\n",
    "def fonc_final(a):\n",
    "    \n",
    "    f = open(f\"{dir_path}/Belgique.csv\")\n",
    "    belgique(f)\n",
    "    \n",
    "    list_ville = []\n",
    "    ville(df)\n",
    "    \n",
    "    \n",
    "    ville_INS(a)\n",
    "    \n",
    "    nis = int(ville_INS(a))\n",
    "    save(nis)\n",
    "    \n",
    "    file = f'{dir_path}/L72_{a}.zip'\n",
    "    dezip(file)\n",
    "    \n",
    "    os.mkdir(f'{dir_path}/L72_{a}_clear')\n",
    "    \n",
    "    shapefile_CaPa = gpd.read_file(f\"{dir_path}/L72_{a}_extract/Bpn_CaPa.shp\")\n",
    "    CaPa_New(shapefile_CaPa)\n",
    "    \n",
    "    try:\n",
    "        shapefile_CaBu = gpd.read_file(f\"{dir_path}/L72_{a}_extract/Bpn_CaBu.shp\")\n",
    "        CaBu_New(shapefile_CaBu)\n",
    "    except :\n",
    "        pass \n",
    "    try:\n",
    "        shapefile_ReBu = gpd.read_file(f\"{dir_path}/L72_{a}_extract/Bpn_ReBu.shp\")\n",
    "        ReBu_New(shapefile_ReBu)\n",
    "    except:\n",
    "        pass\n",
    "    try:\n",
    "        shapefile_CaDi = gpd.read_file(f\"{dir_path}/L72_{a}_extract/Apn_CaDi.shp\")\n",
    "        CaDi_New(shapefile_CaDi)\n",
    "    except:\n",
    "        pass\n",
    "    \n",
    "    \n",
    "    shutil.rmtree(f'{dir_path}/L72_{a}_extract')\n",
    "    os.remove(f'{dir_path}/L72_{a}.zip', 'wb')\n",
    "    \n",
    "fonc_final(a)"
   ]
  }
 ],
 "metadata": {
  "kernelspec": {
   "display_name": "Python 3",
   "language": "python",
   "name": "python3"
  },
  "language_info": {
   "codemirror_mode": {
    "name": "ipython",
    "version": 3
   },
   "file_extension": ".py",
   "mimetype": "text/x-python",
   "name": "python",
   "nbconvert_exporter": "python",
   "pygments_lexer": "ipython3",
   "version": "3.8.8"
  }
 },
 "nbformat": 4,
 "nbformat_minor": 5
}
