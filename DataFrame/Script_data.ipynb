{
 "cells": [
  {
   "cell_type": "code",
   "execution_count": 2,
   "id": "7702cc31",
   "metadata": {},
   "outputs": [],
   "source": [
    "# pip install requests\n",
    "# pip install pandas\n",
    "# pip install csv-reader\n",
    "# pip install numpy\n",
    "# pip install geopandas\n",
    "# pip install zipfile38\n",
    "# pip install os-win\n",
    "# pip install pickle5\n",
    "# pip install shutils\n",
    "\n",
    "\n",
    "\n",
    "import requests\n",
    "import pandas as pd\n",
    "import csv\n",
    "import numpy as np\n",
    "import geopandas as gpd\n",
    "import zipfile38 as zipfile\n",
    "import os\n",
    "import pickle\n",
    "import shutil\n",
    "\n",
    "dir_path = os.path.dirname(os.path.realpath(__file__))\n",
    "\n",
    "\n",
    "# Pour télécharger la database, allez sur ce site :  \n",
    "# https://statbel.fgov.be/fr/propos-de-statbel/methodologie/classifications/geographie\n",
    "# Ensuite en bas de la page prendre 'REFNIS(CSV, 29.8 Kb)'"
   ]
  },
  {
   "cell_type": "code",
   "execution_count": null,
   "id": "518cc026",
   "metadata": {},
   "outputs": [],
   "source": []
  },
  {
   "cell_type": "code",
   "execution_count": null,
   "id": "95eb66e3",
   "metadata": {},
   "outputs": [],
   "source": [
    "\n",
    "\n",
    "f = open(f\"{dir_path}/Belgique.csv\")\n",
    "belgique= pd.read_csv(f, sep = ';')\n",
    "df = belgique[['Code INS','Entités administratives']]\n",
    "df.set_index('Entités administratives',inplace=True)\n",
    "\n"
   ]
  },
  {
   "cell_type": "code",
   "execution_count": null,
   "id": "bae92df8",
   "metadata": {},
   "outputs": [],
   "source": [
    "list_ville = []\n",
    "for i in df.index:\n",
    "    list_ville.append(i)\n",
    "print(list_ville)\n",
    "    "
   ]
  },
  {
   "cell_type": "code",
   "execution_count": null,
   "id": "bc241139",
   "metadata": {},
   "outputs": [],
   "source": [
    "\n",
    "def ville_INS(a):\n",
    "    objet = df.loc[[a], ['Code INS']]\n",
    "    b = objet['Code INS'].values\n",
    "     \n",
    "    return b\n"
   ]
  },
  {
   "cell_type": "code",
   "execution_count": null,
   "id": "e8f54ab1",
   "metadata": {},
   "outputs": [],
   "source": [
    "\n",
    "def save(nis):\n",
    "    \n",
    "    with open(f\"{dir_path}/L72_{a}.zip', 'wb') as fp:\n",
    "        req = requests.get(f'https://eservices.minfin.fgov.be/myminfin-rest/cadastral-plan/cadastralPlan/2021/{nis}/72')\n",
    "        fp.write(req.content)\n",
    "        "
   ]
  },
  {
   "cell_type": "code",
   "execution_count": null,
   "id": "16b9c8d0",
   "metadata": {
    "scrolled": true
   },
   "outputs": [],
   "source": [
    "\n",
    "\n",
    "def dezip(file):\n",
    "    with zipfile.ZipFile(file, 'r') as zip: \n",
    "        zip.extract('Bpn_CaPa.dbf', f'{dir_path}/L72_{a}_extract')\n",
    "        zip.extract('Bpn_CaPa.prj', f'{dir_path}/L72_{a}_extract')\n",
    "        zip.extract('Bpn_CaPa.shp', f'{dir_path}/L72_{a}_extract')\n",
    "        zip.extract('Bpn_CaPa.sbn', f'{dir_path}/L72_{a}_extract')\n",
    "        zip.extract('Bpn_CaPa.sbx', f'{dir_path}/L72_{a}_extract')\n",
    "        zip.extract('Bpn_CaPa.shx', f'{dir_path}/L72_{a}_extract')\n",
    "        \n",
    "        try:\n",
    "            zip.extract('Bpn_CaBu.shp', f'{dir_path}/L72_{a}_extract')\n",
    "            zip.extract('Bpn_CaBu.shx', f'{dir_path}/L72_{a}_extract')\n",
    "            zip.extract('Bpn_CaBu.dbf', f'{dir_path}/L72_{a}_extract')\n",
    "            zip.extract('Bpn_CaBu.prj', f'{dir_path}/L72_{a}_extract')\n",
    "            zip.extract('Bpn_CaBu.sbn', f'{dir_path}/L72_{a}_extract')\n",
    "            zip.extract('Bpn_CaBu.sbx', f'{dir_path}/L72_{a}_extract')\n",
    "        except:\n",
    "            pass\n",
    "        \n",
    "        try:\n",
    "            zip.extract('Bpn_ReBu.shp', f'{dir_path}/L72_{a}_extract')\n",
    "            zip.extract('Bpn_ReBu.shx', f'{dir_path}/L72_{a}_extract')\n",
    "            zip.extract('Bpn_ReBu.dbf', f'{dir_path}/L72_{a}_extract')\n",
    "            zip.extract('Bpn_ReBu.prj', f'{dir_path}/L72_{a}_extract')   \n",
    "            zip.extract('Bpn_ReBu.sbn', f'{dir_path}/L72_{a}_extract')   \n",
    "            zip.extract('Bpn_ReBu.sbx', f'{dir_path}/L72_{a}_extract')\n",
    "        except KeyError:\n",
    "            pass\n",
    "               \n",
    "       \n",
    "        try:\n",
    "            zip.extract('Apn_CaDi.shp', f'{dir_path}/L72_{a}_extract')\n",
    "            zip.extract('Apn_CaDi.shx', f'{dir_path}/L72_{a}_extract')\n",
    "            zip.extract('Apn_CaDi.dbf', f'{dir_path}/L72_{a}_extract')\n",
    "            zip.extract('Apn_CaDi.prj', f'{dir_path}/L72_{a}_extract')\n",
    "            zip.extract('Apn_CaDi.sbn', f'{dir_path}/L72_{a}_extract')\n",
    "            zip.extract('Apn_CaDi.sbx', f'{dir_path}/L72_{a}_extract')\n",
    "        except:\n",
    "            pass\n",
    "    \n",
    "\n",
    "\n"
   ]
  },
  {
   "cell_type": "code",
   "execution_count": null,
   "id": "e2f40bae",
   "metadata": {},
   "outputs": [],
   "source": []
  },
  {
   "cell_type": "code",
   "execution_count": null,
   "id": "f04d9387",
   "metadata": {
    "scrolled": true
   },
   "outputs": [],
   "source": [
    "\n",
    "def CaPa_New(shapefile):\n",
    "    \n",
    "    new_shape_capa = shapefile_CaPa[['CaPaKey','geometry']]\n",
    "    output = open(f'{dir_path}/L72_{a}_clear/Bpn_CaPa_clear.pickle','wb')\n",
    "    pickle.dump(new_shape_capa, output)\n",
    "    output.close()\n",
    "    return new_shape_capa\n"
   ]
  },
  {
   "cell_type": "code",
   "execution_count": null,
   "id": "8fc86858",
   "metadata": {},
   "outputs": [],
   "source": []
  },
  {
   "cell_type": "code",
   "execution_count": null,
   "id": "c924a95f",
   "metadata": {},
   "outputs": [],
   "source": [
    "def CaBu_New(shapefile_CaBu):\n",
    "\n",
    "    new_shape_cabu = shapefile_CaBu[shapefile_CaBu['Type'] =='CL']\n",
    "    new_shape_cabu = new_shape_cabu[['Shape_area','geometry']]\n",
    "    output = open(f'{dir_path}/L72_{a}_clear/Bpn_CaBu_clear.pickle','wb')\n",
    "    pickle.dump(new_shape_cabu, output)\n",
    "    output.close()\n",
    "    return new_shape_cabu\n"
   ]
  },
  {
   "cell_type": "code",
   "execution_count": null,
   "id": "5cf5d71c",
   "metadata": {
    "scrolled": true
   },
   "outputs": [],
   "source": []
  },
  {
   "cell_type": "code",
   "execution_count": null,
   "id": "e05dc8c3",
   "metadata": {},
   "outputs": [],
   "source": [
    "def ReBu_New(shapefile_ReBu):\n",
    "    \n",
    "        new_shape_rebu = shapefile_ReBu[['TYPE', 'geometry']]\n",
    "        output = open(f'{dir_path}/L72_{a}_clear/Bpn_ReBu_clear.pickle','wb')\n",
    "        pickle.dump(new_shape_rebu, output)\n",
    "        output.close()\n",
    "        return new_shape_rebu\n",
    "   \n"
   ]
  },
  {
   "cell_type": "code",
   "execution_count": null,
   "id": "fa708fba",
   "metadata": {
    "scrolled": true
   },
   "outputs": [],
   "source": [
    "def CaDi_New(shapefile_CaDi):\n",
    "    \n",
    "        new_shape_cadi = shapefile_CaDi[['CaDiKey','NameDUT','geometry']]\n",
    "        output = open(f'{dir_path}/L72_{a}_clear/Apn_CaDi_clear.pickle','wb')\n",
    "        pickle.dump(new_shape_cadi, output)\n",
    "        output.close()\n",
    "        return new_shape_cadi\n",
    "    \n",
    "    "
   ]
  },
  {
   "cell_type": "code",
   "execution_count": null,
   "id": "b48e3744",
   "metadata": {},
   "outputs": [],
   "source": [
    "def fonc_final(a):\n",
    "    \n",
    "    a = input('Entrez le nom de la ville: ')\n",
    "    ville_INS(a)\n",
    "    \n",
    "    \n",
    "    nis = int(ville_INS(a))\n",
    "    save(nis)\n",
    "    \n",
    "    file = f'{dir_path}/L72_{a}.zip'\n",
    "    dezip(file)\n",
    "    \n",
    "    \n",
    "    \n",
    "    \n",
    "    os.mkdir(f'{dir_path}/L72_{a}_clear')\n",
    "    \n",
    "    \n",
    "    shapefile_CaPa = gpd.read_file(f\"{dir_path}/L72_{a}_extract/Bpn_CaPa.shp\")\n",
    "    CaPa_New(shapefile_CaPa)\n",
    "    \n",
    "    \n",
    "    try:\n",
    "        shapefile_CaBu = gpd.read_file(f\"{dir_path}/L72_{a}_extract/Bpn_CaBu.shp\")\n",
    "        CaBu_New(shapefile_CaBu)\n",
    "    except :\n",
    "        pass\n",
    "    \n",
    "    \n",
    "    \n",
    "    try:\n",
    "        shapefile_ReBu = gpd.read_file(f\"{dir_path}/L72_{a}_extract/Bpn_ReBu.shp\")\n",
    "        ReBu_New(shapefile_ReBu)\n",
    "    except:\n",
    "        pass\n",
    "    \n",
    "    \n",
    "    try:\n",
    "        shapefile_CaDi = gpd.read_file(f\"{dir_path}/L72_{a}_extract/Apn_CaDi.shp\")\n",
    "        CaDi_New(shapefile_CaDi)\n",
    "    except:\n",
    "        pass\n",
    "    \n",
    "    \n",
    "    shutil.rmtree(f'{dir_path}/L72_{a}_extract')\n",
    "    os.remove(f'{dir_path}/L72_{a}.zip', 'wb')"
   ]
  },
  {
   "cell_type": "code",
   "execution_count": null,
   "id": "8e556c1e",
   "metadata": {},
   "outputs": [],
   "source": []
  },
  {
   "cell_type": "code",
   "execution_count": null,
   "id": "e2928f1d",
   "metadata": {},
   "outputs": [],
   "source": []
  },
  {
   "cell_type": "code",
   "execution_count": null,
   "id": "7c7e7c88",
   "metadata": {},
   "outputs": [],
   "source": [
    "\n",
    "    "
   ]
  }
 ],
 "metadata": {
  "kernelspec": {
   "display_name": "Python 3",
   "language": "python",
   "name": "python3"
  },
  "language_info": {
   "codemirror_mode": {
    "name": "ipython",
    "version": 3
   },
   "file_extension": ".py",
   "mimetype": "text/x-python",
   "name": "python",
   "nbconvert_exporter": "python",
   "pygments_lexer": "ipython3",
   "version": "3.8.8"
  }
 },
 "nbformat": 4,
 "nbformat_minor": 5
}
