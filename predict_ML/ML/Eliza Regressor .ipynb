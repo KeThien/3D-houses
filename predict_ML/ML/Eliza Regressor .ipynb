{
 "cells": [
  {
   "cell_type": "code",
   "execution_count": 223,
   "metadata": {},
   "outputs": [],
   "source": [
    "\n",
    "import matplotlib.pyplot as plt\n",
    "import numpy as np\n",
    "import pandas as pd\n",
    "import xgboost as xgb\n",
    "from sklearn.ensemble import RandomForestRegressor, GradientBoostingRegressor\n",
    "from sklearn.impute import KNNImputer\n",
    "from sklearn.linear_model import LinearRegression\n",
    "from sklearn.metrics import mean_squared_error\n",
    "from sklearn.model_selection import train_test_split, learning_curve\n",
    "from sklearn.pipeline import make_pipeline\n",
    "from sklearn.preprocessing import PolynomialFeatures\n",
    "from lat_long import get_lat_from_zip,get_long_from_zip\n",
    "import time\n",
    "from joblib import dump, load\n",
    "import pickle\n",
    "\n",
    "path_model = \"Eliza_XGB_Model.pkl\"\n"
   ]
  },
  {
   "cell_type": "code",
   "execution_count": 184,
   "metadata": {},
   "outputs": [],
   "source": [
    "def preprocess (df):\n",
    "\n",
    "    # Nettoyer les type et sub type null\n",
    "    df = df[df['Price'].notna()]\n",
    "    \n",
    "    df.loc[df[\"Type of sale\"] == \"public sale\", 'Type of sale'] = None\n",
    "    df = df[df['Type of sale'].notna()]\n",
    "    df = df.drop(axis=1, labels=\"Type of sale\")\n",
    "    \n",
    "    df.loc[df[\"Garden\"] == 0, 'Garden Area'] = 0\n",
    "\n",
    "    df.loc[df[\"Subtype of property\"] == \"villa\", 'Type of property'] = \"house\"\n",
    "    df.loc[df[\"Subtype of property\"] == \"loft\", 'Type of property'] = \"apartment\"\n",
    "    df.loc[df[\"Subtype of property\"] == \"mansion\", 'Type of property'] = \"house\"\n",
    "    df.loc[df[\"Subtype of property\"] == \"penthouse\", 'Type of property'] = \"apartment\"\n",
    "    df.loc[df[\"Subtype of property\"] == \"duplex\", 'Type of property'] = \"apartment\"\n",
    "    df.loc[df[\"Subtype of property\"] == \"investment property\", 'Type of property'] = \"house\"\n",
    "\n",
    "    df.loc[df[\"Url\"].str.contains(\"immeuble-de-rapport-a-vendre\"), 'Type of property'] = \"house\"\n",
    "    df.loc[df[\"Url\"].str.contains(\"immeuble-de-rapport-a-vendre\"), 'Subtype of property'] = \"investment property\"\n",
    "\n",
    "    df.loc[df[\"Number of rooms\"] == 0, 'Number of rooms'] = None\n",
    "    df.loc[((df[\"Number of rooms\"].isnull()) & (df[\"Subtype of property\"] == \"studio\")), 'Number of rooms'] = 0\n",
    "    df.loc[((df[\"Number of rooms\"].isnull()) & (df[\"Subtype of property\"] == \"student\")), 'Number of rooms'] = 0\n",
    "    df.loc[(df[\"Garden Area\"].isnull()) & (df[\"Garden\"] == 0), \"Garden Area\"] = 0\n",
    "    df.loc[(df[\"Furnished\"].isnull()), \"Furnished\"] = 0\n",
    "    df.loc[((df[\"Subtype of property\"].isnull()) & (df[\"Type of property\"] == \"apartment\")), \"Subtype of property\"] = \"apartment\"\n",
    "    df.loc[((df[\"Subtype of property\"].isnull()) & (df[\"Type of property\"] == \"house\")), \"Subtype of property\"] = \"house\"\n",
    "    \n",
    "    df = df.drop(axis=1, labels=\"Url\")\n",
    "    df = df.drop(axis=1, labels=\"Source\")\n",
    "    df = df.drop(axis=1, labels=\"Surface area of the plot of land\")\n",
    "    df = df.drop(axis=1, labels=\"Region\")\n",
    "    df = df.drop(axis=1, labels=\"Province\")\n",
    "    \n",
    "    df = df.sort_values(\"Price\", ascending=False)\n",
    "    df = df[df['Price'] < 30000000]\n",
    "\n",
    "    to_replace = {None : \"good\"}\n",
    "    df[\"State of the building\"] = df[\"State of the building\"].replace(to_replace)\n",
    "    df[\"Locality\"] = df[\"Locality\"].astype(str)\n",
    "    df['lat'] = df[\"Locality\"].apply(get_lat_from_zip)\n",
    "    df['long'] = df[\"Locality\"].apply(get_long_from_zip)\n",
    "    df = df[df[\"lat\"] != 0]\n",
    "    df = df.drop(columns='Locality')\n",
    "    df = pd.get_dummies(df, drop_first=False)\n",
    "\n",
    "    return df"
   ]
  },
  {
   "cell_type": "code",
   "execution_count": 174,
   "metadata": {},
   "outputs": [
    {
     "name": "stdout",
     "output_type": "stream",
     "text": [
      "(73510, 23)\n",
      "(72506, 23)\n"
     ]
    },
    {
     "name": "stderr",
     "output_type": "stream",
     "text": [
      "/usr/local/lib/python3.8/dist-packages/pandas/core/indexing.py:1720: SettingWithCopyWarning: \n",
      "A value is trying to be set on a copy of a slice from a DataFrame.\n",
      "Try using .loc[row_indexer,col_indexer] = value instead\n",
      "\n",
      "See the caveats in the documentation: https://pandas.pydata.org/pandas-docs/stable/user_guide/indexing.html#returning-a-view-versus-a-copy\n",
      "  self._setitem_single_column(loc, value, pi)\n"
     ]
    },
    {
     "name": "stdout",
     "output_type": "stream",
     "text": [
      "<class 'pandas.core.frame.DataFrame'>\n",
      "Int64Index: 71465 entries, 19178 to 70072\n",
      "Data columns (total 43 columns):\n",
      " #   Column                                   Non-Null Count  Dtype  \n",
      "---  ------                                   --------------  -----  \n",
      " 0   Price                                    71465 non-null  float64\n",
      " 1   Number of rooms                          70238 non-null  float64\n",
      " 2   Area                                     61279 non-null  float64\n",
      " 3   Fully equipped kitchen                   71465 non-null  float64\n",
      " 4   Furnished                                71465 non-null  float64\n",
      " 5   Open fire                                71465 non-null  float64\n",
      " 6   Terrace                                  71465 non-null  float64\n",
      " 7   Terrace Area                             23188 non-null  float64\n",
      " 8   Garden                                   71465 non-null  float64\n",
      " 9   Garden Area                              64848 non-null  float64\n",
      " 10  Surface of the land                      33769 non-null  float64\n",
      " 11  Number of facades                        35236 non-null  float64\n",
      " 12  Swimming pool                            71465 non-null  float64\n",
      " 13  lat                                      71465 non-null  float64\n",
      " 14  long                                     71465 non-null  float64\n",
      " 15  Type of property_apartment               71465 non-null  uint8  \n",
      " 16  Type of property_house                   71465 non-null  uint8  \n",
      " 17  Subtype of property_apartment            71465 non-null  uint8  \n",
      " 18  Subtype of property_apartments row       71465 non-null  uint8  \n",
      " 19  Subtype of property_building             71465 non-null  uint8  \n",
      " 20  Subtype of property_castle               71465 non-null  uint8  \n",
      " 21  Subtype of property_cottage              71465 non-null  uint8  \n",
      " 22  Subtype of property_duplex               71465 non-null  uint8  \n",
      " 23  Subtype of property_farmhouse            71465 non-null  uint8  \n",
      " 24  Subtype of property_floor                71465 non-null  uint8  \n",
      " 25  Subtype of property_ground floor         71465 non-null  uint8  \n",
      " 26  Subtype of property_house                71465 non-null  uint8  \n",
      " 27  Subtype of property_investment property  71465 non-null  uint8  \n",
      " 28  Subtype of property_loft                 71465 non-null  uint8  \n",
      " 29  Subtype of property_manor                71465 non-null  uint8  \n",
      " 30  Subtype of property_mansion              71465 non-null  uint8  \n",
      " 31  Subtype of property_mixed                71465 non-null  uint8  \n",
      " 32  Subtype of property_pavilion             71465 non-null  uint8  \n",
      " 33  Subtype of property_penthouse            71465 non-null  uint8  \n",
      " 34  Subtype of property_service flat         71465 non-null  uint8  \n",
      " 35  Subtype of property_student              71465 non-null  uint8  \n",
      " 36  Subtype of property_studio               71465 non-null  uint8  \n",
      " 37  Subtype of property_town                 71465 non-null  uint8  \n",
      " 38  Subtype of property_triplex              71465 non-null  uint8  \n",
      " 39  Subtype of property_villa                71465 non-null  uint8  \n",
      " 40  State of the building_good               71465 non-null  uint8  \n",
      " 41  State of the building_new                71465 non-null  uint8  \n",
      " 42  State of the building_to renovate        71465 non-null  uint8  \n",
      "dtypes: float64(15), uint8(28)\n",
      "memory usage: 10.6 MB\n",
      "None\n",
      "<class 'pandas.core.frame.DataFrame'>\n",
      "Int64Index: 0 entries\n",
      "Data columns (total 23 columns):\n",
      " #   Column                            Non-Null Count  Dtype  \n",
      "---  ------                            --------------  -----  \n",
      " 0   Url                               0 non-null      object \n",
      " 1   Source                            0 non-null      object \n",
      " 2   Locality                          0 non-null      int64  \n",
      " 3   Type of property                  0 non-null      object \n",
      " 4   Subtype of property               0 non-null      object \n",
      " 5   Price                             0 non-null      float64\n",
      " 6   Type of sale                      0 non-null      object \n",
      " 7   Number of rooms                   0 non-null      float64\n",
      " 8   Area                              0 non-null      float64\n",
      " 9   Fully equipped kitchen            0 non-null      float64\n",
      " 10  Furnished                         0 non-null      float64\n",
      " 11  Open fire                         0 non-null      float64\n",
      " 12  Terrace                           0 non-null      float64\n",
      " 13  Terrace Area                      0 non-null      float64\n",
      " 14  Garden                            0 non-null      float64\n",
      " 15  Garden Area                       0 non-null      float64\n",
      " 16  Surface of the land               0 non-null      float64\n",
      " 17  Surface area of the plot of land  0 non-null      float64\n",
      " 18  Number of facades                 0 non-null      float64\n",
      " 19  Swimming pool                     0 non-null      float64\n",
      " 20  State of the building             0 non-null      object \n",
      " 21  Province                          0 non-null      object \n",
      " 22  Region                            0 non-null      object \n",
      "dtypes: float64(14), int64(1), object(8)\n",
      "memory usage: 0.0+ bytes\n",
      "None\n"
     ]
    }
   ],
   "source": [
    "df = pd.read_csv(\"./Data/database.csv\", index_col=0)\n",
    "df_empty = df.iloc[0:0]\n",
    "df = preprocess(df)\n",
    "print(df.info())\n",
    "print(df_empty.info())"
   ]
  },
  {
   "cell_type": "code",
   "execution_count": 160,
   "metadata": {
    "pycharm": {
     "name": "#%%\n"
    }
   },
   "outputs": [
    {
     "name": "stdout",
     "output_type": "stream",
     "text": [
      "start knn\n",
      "fini en 695.14 secondes\n",
      "start knn\n",
      "fini en 0.08 secondes\n",
      "(71465,)\n",
      "(57172, 42)\n",
      "(57172,)\n",
      "(14293, 42)\n",
      "(14293,)\n",
      "0.9998373636974037 0.8366667151853359 0.16317064851206786\n"
     ]
    },
    {
     "ename": "NameError",
     "evalue": "name 'path_model' is not defined",
     "output_type": "error",
     "traceback": [
      "\u001b[0;31m---------------------------------------------------------------------------\u001b[0m",
      "\u001b[0;31mNameError\u001b[0m                                 Traceback (most recent call last)",
      "\u001b[0;32m<ipython-input-160-89c4a2ee1e2f>\u001b[0m in \u001b[0;36m<module>\u001b[0;34m\u001b[0m\n\u001b[1;32m      1\u001b[0m \u001b[0mmodel\u001b[0m \u001b[0;34m=\u001b[0m \u001b[0mrun\u001b[0m\u001b[0;34m(\u001b[0m\u001b[0mdf\u001b[0m\u001b[0;34m)\u001b[0m\u001b[0;34m\u001b[0m\u001b[0;34m\u001b[0m\u001b[0m\n\u001b[1;32m      2\u001b[0m \u001b[0;34m\u001b[0m\u001b[0m\n\u001b[0;32m----> 3\u001b[0;31m \u001b[0;32mwith\u001b[0m \u001b[0mopen\u001b[0m\u001b[0;34m(\u001b[0m\u001b[0mpath_model\u001b[0m\u001b[0;34m,\u001b[0m \u001b[0;34m'wb'\u001b[0m\u001b[0;34m)\u001b[0m \u001b[0;32mas\u001b[0m \u001b[0mfile\u001b[0m\u001b[0;34m:\u001b[0m\u001b[0;34m\u001b[0m\u001b[0;34m\u001b[0m\u001b[0m\n\u001b[0m\u001b[1;32m      4\u001b[0m     \u001b[0mpickle\u001b[0m\u001b[0;34m.\u001b[0m\u001b[0mdump\u001b[0m\u001b[0;34m(\u001b[0m\u001b[0mmodel\u001b[0m\u001b[0;34m,\u001b[0m \u001b[0mfile\u001b[0m\u001b[0;34m)\u001b[0m\u001b[0;34m\u001b[0m\u001b[0;34m\u001b[0m\u001b[0m\n",
      "\u001b[0;31mNameError\u001b[0m: name 'path_model' is not defined"
     ]
    }
   ],
   "source": [
    "model, df_knn = run(df)\n",
    "np.save(\"fichierKNN6.data\", df_knn)"
   ]
  },
  {
   "cell_type": "code",
   "execution_count": 225,
   "metadata": {
    "pycharm": {
     "name": "#%%\n"
    }
   },
   "outputs": [
    {
     "name": "stdout",
     "output_type": "stream",
     "text": [
      "XGBRegressor(base_score=0.5, booster='gbtree', colsample_bylevel=1,\n",
      "             colsample_bynode=1, colsample_bytree=1, gamma=0, gpu_id=0,\n",
      "             grow_policy='lossguide', importance_type='gain',\n",
      "             interaction_constraints='', learning_rate=0.1, max_bin=512,\n",
      "             max_delta_step=0, max_depth=8, max_leaves=500, min_child_weight=1,\n",
      "             missing=nan, monotone_constraints='()', n_estimators=6000,\n",
      "             n_jobs=6, num_parallel_tree=1, random_state=0, reg_alpha=5,\n",
      "             reg_lambda=5, scale_pos_weight=1, subsample=1,\n",
      "             tree_method='gpu_hist', validate_parameters=1, verbosity=None)\n"
     ]
    }
   ],
   "source": [
    "print(model)"
   ]
  },
  {
   "cell_type": "code",
   "execution_count": 224,
   "metadata": {
    "pycharm": {
     "name": "#%%\n"
    }
   },
   "outputs": [],
   "source": [
    "with open(path_model, 'wb') as file:\n",
    "    pickle.dump(model, file)"
   ]
  },
  {
   "cell_type": "code",
   "execution_count": null,
   "metadata": {
    "pycharm": {
     "name": "#%%\n"
    }
   },
   "outputs": [],
   "source": [
    "# Load the Model back from file\n",
    "with open(path_model, 'rb') as file:\n",
    "    model = pickle.load(file)"
   ]
  },
  {
   "cell_type": "code",
   "execution_count": 159,
   "metadata": {
    "pycharm": {
     "name": "#%%\n"
    }
   },
   "outputs": [],
   "source": [
    "def run(df):\n",
    "    df_knn = knn(df)\n",
    "    model = train(df_knn)\n",
    "    return model, df_knn"
   ]
  },
  {
   "cell_type": "markdown",
   "metadata": {},
   "source": [
    "## Han\n",
    "\n",
    "2 bed rooms, fully equipped kitchen, 2 small terraces, no garden, locality 1160\n",
    "85 m2, Brussels 1160, fully equipped kitchen , fully renovated\n",
    "\n",
    "## Olivier\n",
    "1000 Brussels, 70m², 1 bedroom, fully equipped kitchen, no terrace/garden. it's a corner appartement (2 facades)"
   ]
  },
  {
   "cell_type": "code",
   "execution_count": 206,
   "metadata": {},
   "outputs": [],
   "source": [
    "to_predict = {\"Number of rooms\":[2], \"Fully equipped kitchen\": [1], \"Terrace\": [1], \"Garden\": [0], \"Swimming pool\":[0],\n",
    "             \"Locality\":[1160], \"Area\": [85], \"State of the building\": [\"good\"], \"Type of property\": [\"apartment\"]}"
   ]
  },
  {
   "cell_type": "code",
   "execution_count": 214,
   "metadata": {
    "pycharm": {
     "name": "#%%\n"
    }
   },
   "outputs": [],
   "source": [
    "to_predict = {\"Number of rooms\":[1], \"Fully equipped kitchen\": [1], \"Terrace\": [0], \"Garden\": [1], \"Swimming pool\":[0],\n",
    "             \"Locality\":[1000], \"Area\": [70], \"State of the building\": [\"good\"], \"Type of property\": [\"apartment\"],\n",
    "              \"Number of facades\": 2}"
   ]
  },
  {
   "cell_type": "code",
   "execution_count": 218,
   "metadata": {
    "pycharm": {
     "name": "#%%\n"
    }
   },
   "outputs": [],
   "source": [
    "to_predict = {\"Number of rooms\":[2], \"Fully equipped kitchen\": [1], \"Terrace\": [1], \"Terrace Area\": 30, \"Garden\": [1],\n",
    "              \"Swimming pool\":[0], \"Locality\":[1200], \"Area\": [120], \"State of the building\": [\"good\"],\n",
    "              \"Type of property\": [\"apartment\"], \"Number of facades\": 2}"
   ]
  },
  {
   "cell_type": "code",
   "execution_count": 219,
   "metadata": {
    "pycharm": {
     "name": "#%%\n"
    }
   },
   "outputs": [
    {
     "name": "stdout",
     "output_type": "stream",
     "text": [
      "[418201.47] €\n"
     ]
    }
   ],
   "source": [
    "df_to_predict = pd.DataFrame.from_dict(to_predict)\n",
    "df_to_predict['Price'] = 0\n",
    "df_to_predict[\"Type of sale\"] = \"predict\"\n",
    "df_to_predict[\"Url\"] = \"predict\"\n",
    "df_to_predict = df_empty.append(df_to_predict)\n",
    "\n",
    "df_to_predict = preprocess(df_to_predict)\n",
    "\n",
    "df_empty_long = df.iloc[0:0]\n",
    "df_to_predict = df_empty_long.append(df_to_predict)\n",
    "\n",
    "df_to_predict2 = df_to_predict.drop(\"Price\", axis=1)\n",
    "df_to_predict2.shape\n",
    "prediction = model.predict(df_to_predict2)\n",
    "print(prediction, '€')\n"
   ]
  },
  {
   "cell_type": "markdown",
   "metadata": {},
   "source": [
    "## Imputer"
   ]
  },
  {
   "cell_type": "code",
   "execution_count": 136,
   "metadata": {
    "pycharm": {
     "name": "#%%\n"
    }
   },
   "outputs": [],
   "source": [
    "def knn(data_input):\n",
    "    start = time.perf_counter()\n",
    "    print(\"start knn\")\n",
    "    imputer = KNNImputer(n_neighbors = 10)\n",
    "    df_knn = imputer.fit_transform(data_input)\n",
    "    #  np.save(\"nomdufichier6.data\", df_knn)\n",
    "\n",
    "    finish = time.perf_counter()\n",
    "    print(f\"fini en {round(finish-start, 2)} secondes\")\n",
    "    return  df_knn"
   ]
  },
  {
   "cell_type": "code",
   "execution_count": 144,
   "metadata": {
    "pycharm": {
     "name": "#%%\n"
    }
   },
   "outputs": [],
   "source": [
    "def add_to_knn(row=True):\n",
    "    print(\"start add_knn\")\n",
    "    if type(row) is pd.DataFrame:\n",
    "        row = row.to_numpy()\n",
    "    df_knn = np.load(\"nomdufichier6.data.npy\")\n",
    "    print(df_knn.size)\n",
    "    np.vstack((df_knn, row))\n",
    "    print(df_knn.size)\n",
    "    print(type(df_knn))\n",
    "    return df_knn"
   ]
  },
  {
   "cell_type": "code",
   "execution_count": null,
   "metadata": {
    "pycharm": {
     "name": "#%%\n"
    }
   },
   "outputs": [],
   "source": [
    "# df_knn = np.load(\"nomdufichier6.data.npy\")\n",
    "# df = np.load(\"nomdufichier.data.npy\")\n"
   ]
  },
  {
   "cell_type": "code",
   "execution_count": 19,
   "metadata": {},
   "outputs": [
    {
     "name": "stdout",
     "output_type": "stream",
     "text": [
      "(57172, 39)\n",
      "(57172,)\n",
      "(14293, 39)\n",
      "(14293,)\n"
     ]
    }
   ],
   "source": []
  },
  {
   "cell_type": "markdown",
   "metadata": {},
   "source": [
    "## XGBRegressor - 83.6%"
   ]
  },
  {
   "cell_type": "code",
   "execution_count": 133,
   "metadata": {},
   "outputs": [],
   "source": [
    "def train(df_train):\n",
    "    df_knn = knn(df_train)\n",
    "    np.save(\"nomdufichier6.data\", df_knn)\n",
    "\n",
    "    y = df_knn[:,0] #  .reshape(-1,1)\n",
    "    X = df_knn[:,1:]\n",
    "    y = y.T\n",
    "    print(y.shape)\n",
    "\n",
    "    # Splitting data into train and test split\n",
    "    x_train, x_test, y_train, y_test = train_test_split(X, y, random_state=41, test_size=0.2)\n",
    "    print(x_train.shape)\n",
    "    print(y_train.shape)\n",
    "    print(x_test.shape)\n",
    "    print(y_test.shape)\n",
    "\n",
    "    model = xgb.XGBRegressor(random_state=0, n_jobs=6, max_depth=8, grow_policy = 'lossguide', max_leaves = 500,\n",
    "                        max_bin = 512, reg_alpha = 5, reg_lambda = 5,\n",
    "                        n_estimators = 6000, learning_rate=0.1, tree_method = 'gpu_hist')\n",
    "\n",
    "    model.fit(x_train,y_train)\n",
    "    print(model.score(x_train, y_train), model.score(x_test, y_test), (model.score(x_train, y_train)- model.score(x_test, y_test)))\n",
    "    return model"
   ]
  },
  {
   "cell_type": "markdown",
   "metadata": {
    "pycharm": {
     "name": "#%% md\n"
    }
   },
   "source": [
    "0.9998373636974037 0.8366667151853359 0.16317064851206786\n",
    "\n",
    "\n",
    "model = xgb.XGBRegressor(random_state=0, n_jobs=6, max_depth=8, #num_parallel_tree = 3, \n",
    "                        reg_alpha = 5, # max_bin = 1024,\n",
    "                        n_estimators = 4000, learning_rate=0.1, tree_method = 'gpu_hist')\n",
    "0.9998132635082202 0.851047719752367 0.14876554375585316\n",
    "\n",
    "\n",
    "model = xgb.XGBRegressor(random_state=0, n_jobs=6, max_depth=8, #num_parallel_tree = 3, \n",
    "                        max_bin = 1024, reg_alpha = 5,\n",
    "                        n_estimators = 4000, learning_rate=0.1, tree_method = 'gpu_hist')\n",
    "0.999765113520287 0.8505623053783662 0.14920280814192077\n",
    "\n",
    "model = xgb.XGBRegressor(random_state=0, n_jobs=6, max_depth=8, #num_parallel_tree = 3, \n",
    "                        max_bin = 512, reg_lambda = 10,\n",
    "                        n_estimators = 4000, learning_rate=0.1, tree_method = 'gpu_hist')\n",
    "0.9987876063930322 0.8566091475621213 0.14217845883091096\n",
    "\n",
    "model = xgb.XGBRegressor(random_state=0, n_jobs=6, max_depth=8, #num_parallel_tree = 3, \n",
    "                        max_bin = 512, reg_alpha = 10, reg_lambda = 10,\n",
    "                        n_estimators = 4000, learning_rate=0.1, tree_method = 'gpu_hist')\n",
    "0.998762287541839 0.8553727356152264 0.14338955192661262\n",
    "\n",
    "#### model = xgb.XGBRegressor(random_state=0, n_jobs=6, max_depth=8,\n",
    "                        max_bin = 512, reg_alpha = 5, reg_lambda = 5,\n",
    "                        n_estimators = 4000, learning_rate=0.1, tree_method = 'gpu_hist')\n",
    "0.9993692375342816 0.8571282283314186 0.1422410092028631\n",
    "\n",
    "model = xgb.XGBRegressor(random_state=0, n_jobs=6, max_depth=8,\n",
    "                        max_bin = 512, reg_alpha = 2,\n",
    "                        n_estimators = 4000, learning_rate=0.1, tree_method = 'gpu_hist')\n",
    "0.9997917613166557 0.855281945931566 0.14450981538508967\n",
    "\n",
    "model = xgb.XGBRegressor(random_state=0, n_jobs=6, max_depth=8,\n",
    "                        max_bin = 512,\n",
    "                        n_estimators = 4000, learning_rate=0.1, tree_method = 'gpu_hist')\n",
    "0.9997983720288148 0.8567727264217655 0.14302564560704933\n",
    "\n",
    "model = xgb.XGBRegressor(random_state=0, n_jobs=6, max_depth=8, num_parallel_tree = 3, \n",
    "                        n_estimators = 4000, learning_rate=0.1, tree_method = 'gpu_hist')\n",
    "0.99980853482703 0.8521896845089079 0.14761885031812216\n",
    "\n",
    "\n",
    "model =xgb.XGBRegressor(random_state=0, n_jobs=6, max_depth=8,\n",
    "                        n_estimators = 4000, learning_rate=0.1, tree_method = 'gpu_hist')\n",
    "0.999802967794843 0.8516998776901281 0.1481030901047149\n",
    "\n",
    "\n",
    "model =xgb.XGBRegressor(random_state=0, n_jobs=6, max_depth=8, grow_policy = 'lossguide', max_leaves = 500,\n",
    "                        num_parallel_tree = 5, max_bin = 512,\n",
    "                        n_estimators = 4000, learning_rate=0.05, tree_method = 'gpu_hist')\n",
    "0.9983446665082456 0.8563764861118395 0.14196818039640613\n",
    "\n",
    "model =xgb.XGBRegressor(random_state=0, n_jobs=6, max_depth=8, grow_policy = 'lossguide', max_leaves = 500,\n",
    "                        num_parallel_tree = 5, max_bin = 512,\n",
    "                        n_estimators = 6000, learning_rate=0.1, tree_method = 'gpu_hist')\n",
    "0.9999623287317445 0.8567858238632804 0.14317650486846412     # 30 minutes\n",
    "\n",
    "model =xgb.XGBRegressor(random_state=0, n_jobs=6, max_depth=8, grow_policy = 'lossguide', max_leaves = 20,\n",
    "                        n_estimators = 6000, learning_rate=0.1, tree_method = 'gpu_hist')\n",
    "0.9997593543466164 0.8502793314915857 0.1494800228550307\n",
    "\n",
    "model =xgb.XGBRegressor(random_state=0, n_jobs=6, max_depth=8, grow_policy = 'lossguide', max_leaves = 20,\n",
    "                        n_estimators = 6000, learning_rate=0.1, tree_method = 'gpu_hist')\n",
    "0.9931133400714447 0.8468483073335407 0.14626503273790403\n",
    "\n",
    "model =xgb.XGBRegressor(random_state=0, n_jobs=6, max_depth=8, grow_policy = 'lossguide', max_leaves = 5,\n",
    "                        n_estimators = 6000, learning_rate=0.1, tree_method = 'gpu_hist')\n",
    "0.9526180694530272 0.8340390212150617 0.1185790482379655\n",
    "\n",
    "model =xgb.XGBRegressor(random_state=0, n_jobs=6, max_depth=8,\n",
    "                        n_estimators = 6000, learning_rate=0.1, tree_method = 'gpu_hist')\n",
    "0.9999628823878924 0.8517063326995244 0.148256549688368\n",
    "\n",
    "\n",
    "model =xgb.XGBRegressor(random_state=0, n_jobs=6, max_depth=9,\n",
    "                        n_estimators = 6000, learning_rate=0.1, tree_method = 'gpu_hist')\n",
    "0.999992674758225 0.8435944093630555 0.15639826539516943\n",
    "\n",
    "\n",
    "model =xgb.XGBRegressor(random_state=0, n_jobs=6, max_depth=7,\n",
    "                        n_estimators = 6000, learning_rate=0.1, tree_method = 'gpu_hist')\n",
    "0.9996491336382041 0.8476513430580268 0.15199779058017726\n",
    "\n",
    "model =xgb.XGBRegressor(random_state=0, n_jobs=6, max_depth=6,\n",
    "                        n_estimators = 6000, learning_rate=0.1, tree_method = 'gpu_hist')\n",
    "0.9979864533735407 0.8462007798620378 0.15178567351150296\n",
    "\n",
    "model =xgb.XGBRegressor(random_state=0, n_jobs=6, max_depth=5,\n",
    "                        n_estimators = 6000, learning_rate=0.1, tree_method = 'gpu_hist')\n",
    "0.9927420904117953 0.8445279867247475 0.1482141036870478\n",
    "\n",
    "\n",
    "                        n_estimators = 6000, learning_rate=0.1, tree_method = 'gpu_hist')\n",
    "0.9979864533735407 0.8462007798620378 0.15178567351150296\n",
    "\n",
    "model =xgb.XGBRegressor(n_estimators = 4000, random_state=0, learning_rate=0.1, tree_method = 'gpu_hist')\n",
    "0.9959100162368746 0.8459608583920194 0.14994915784485519\n",
    "\n",
    "model =xgb.XGBRegressor(n_estimators = 4000, random_state=0, learning_rate=0.08, tree_method = 'gpu_hist',\n",
    "                       n_jobs=6)\n",
    "0.9941049256512487 0.8433765141647601 0.15072841148648863\n",
    "\n",
    "model =xgb.XGBRegressor(n_estimators = 4000, random_state=0, learning_rate=0.05, tree_method = 'gpu_hist')\n",
    "0.9893983015007012 0.8423624230323355 0.14703587846836563\n",
    "\n",
    "model =xgb.XGBRegressor(n_estimators = 4000, random_state=0, learning_rate=0.1, tree_method = 'hist')\n",
    "0.9958906268886126 0.8450341622976418 0.1508564645909708\n",
    "\n",
    "model =xgb.XGBRegressor(n_estimators = 2000, random_state=0, learning_rate=0.2, tree_method = 'hist')\n",
    "0.9960097119421771 0.8427440577385367 0.15326565420364047\n",
    "\n",
    "model =xgb.XGBRegressor(n_estimators = 1000, random_state=0, learning_rate=0.2, tree_method = 'hist')\n",
    "0.989814872660948 0.84184660889742 0.147968263763528\n",
    "\n",
    "model =xgb.XGBRegressor(n_estimators = 500, random_state=0, learning_rate=0.2, tree_method = 'hist')\n",
    "0.9791561680982418 0.8400372929358884 0.13911887516235344\n",
    "\n",
    "model =xgb.XGBRegressor(n_estimators = 500, random_state=0, learning_rate=0.1, tree_method = 'hist')\n",
    "0.9632291677458388 0.8374924645823841 0.12573670316345464\n",
    "\n",
    "model =xgb.XGBRegressor(random_state=0, learning_rate=0.1, tree_method = 'hist')\n",
    "0.9117170222749945 0.8149151142209548 0.09680190805403976\n",
    "\n",
    "model =xgb.XGBRegressor(random_state=0, learning_rate=0.1)\n",
    "0.9156693866898443 0.8133889759099304 0.1022804107799139\n",
    "\n",
    "model =xgb.XGBRegressor (random_state=0)\n",
    "0.9477787390919068 0.808287698716571 0.13949104037533577\n",
    "\n",
    "model =xgb.XGBRegressor(random_state=0, learning_rate=1)\n",
    "0.968737930521364 0.7390980419613071 0.2296398885600569\n",
    "\n",
    "model =xgb.XGBRegressor(random_state=0, learning_rate=0.01)\n",
    "0.5825861847357299 0.5201486702748421 0.062437514460887744\n",
    "\n",
    "model =xgb.XGBRegressor(random_state=0, learning_rate=0.5)\n",
    "0.9601038139096176 0.8113167204440415 0.14878709346557617"
   ]
  }
 ],
 "metadata": {
  "kernelspec": {
   "display_name": "Python 3",
   "language": "python",
   "name": "python3"
  },
  "language_info": {
   "codemirror_mode": {
    "name": "ipython",
    "version": 3
   },
   "file_extension": ".py",
   "mimetype": "text/x-python",
   "name": "python",
   "nbconvert_exporter": "python",
   "pygments_lexer": "ipython3",
   "version": "3.8.5"
  }
 },
 "nbformat": 4,
 "nbformat_minor": 4
}
